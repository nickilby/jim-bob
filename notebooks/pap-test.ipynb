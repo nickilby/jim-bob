{
 "cells": [
  {
   "cell_type": "markdown",
   "metadata": {},
   "source": [
    "Ian' notebook "
   ]
  },
  {
   "cell_type": "code",
   "execution_count": 4,
   "metadata": {},
   "outputs": [
    {
     "name": "stdout",
     "output_type": "stream",
     "text": [
      "alias: scc\n",
      "internal header: live-scc.cloud.contensis.com\n",
      "site is on blocks\n"
     ]
    }
   ],
   "source": [
    "import requests\n",
    "import json\n",
    "\n",
    "url = \"https://pap.zengenti.com/environments/\"\n",
    "\n",
    "testUrl = \"www.suffolk.gov.uk\"\n",
    "\n",
    "payload = json.dumps({\n",
    "  \"x-extra-fields\": \"server_list,custom_roles\"\n",
    "})\n",
    "headers = {\n",
    "  'X-Security-Token': 'yTBG4HLurhygfjjXsjC7Iwzo4uAgNQMNl%2bsKQTCMTDapA6MSESKELFp6RXP%2bUihyaO20zw0YoyE%3d',\n",
    "  'x-extra-fields': 'server_list,custom_roles,site_list,virtual_hosts',\n",
    "  'Content-Type': 'application/json'\n",
    "}\n",
    "\n",
    "response = requests.request(\"GET\", url, headers=headers, data=payload)\n",
    "jsonResponse = response.json()\n",
    "environments = jsonResponse['environments']\n",
    "\n",
    "for env in environments:\n",
    "    try:\n",
    "        virtualHosts = env[\"virtual_hosts\"]\n",
    "        for host in virtualHosts:\n",
    "            if host[\"hostheader\"] == testUrl:\n",
    "                #print(json.dumps(env, indent = 4, sort_keys=True))\n",
    "                print(\"alias: \" + env[\"alias\"])\n",
    "                print(\"internal header: \" + host[\"backend_url\"])\n",
    "                print(\"web1: z-\" + env[\"alias\"] + \"-web1-\" + host[\"backend_url\"])\n",
    "                print(\"web2: z-\" + env[\"alias\"] + \"-web2-\" + host[\"backend_url\"])\n",
    "                for site in env[\"site_list\"]:\n",
    "                    if site[\"hostheader\"] == host[\"backend_url\"]:\n",
    "                        if site[\"use_blocks\"]:\n",
    "                            print(\"site is configured for blocks\")\n",
    "                            break\n",
    "                        elif site[\"use_app_servers\"]:\n",
    "                            print(\"site is configured for app servers\")\n",
    "                            break\n",
    "                        else:\n",
    "                            print(\"site is configured for classic\")\n",
    "                            break\n",
    "                #print(json.dumps(env[\"site_list\"], indent = 4, sort_keys=True))\n",
    "                break\n",
    "    except Exception:\n",
    "        pass\n"
   ]
  }
 ],
 "metadata": {
  "kernelspec": {
   "display_name": ".venv",
   "language": "python",
   "name": "python3"
  },
  "language_info": {
   "codemirror_mode": {
    "name": "ipython",
    "version": 3
   },
   "file_extension": ".py",
   "mimetype": "text/x-python",
   "name": "python",
   "nbconvert_exporter": "python",
   "pygments_lexer": "ipython3",
   "version": "3.12.4"
  }
 },
 "nbformat": 4,
 "nbformat_minor": 2
}
